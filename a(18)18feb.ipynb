{
 "cells": [
  {
   "cell_type": "markdown",
   "id": "6d0c0dac-072d-45c6-a324-1b55cad46b6f",
   "metadata": {},
   "source": [
    "# Quetion : 1"
   ]
  },
  {
   "cell_type": "markdown",
   "id": "d95bbd62-8657-44d6-8222-e2297781ddd7",
   "metadata": {},
   "source": [
    "API stands for Application Programming Interface. It is a set of protocols, routines, and tools for building software applications. An API specifies how software components should interact with each other. \n",
    "\n",
    "An example of an API in real life is the Google Maps API. This allows developers to embed Google Maps into their own websites and applications, allowing users to view maps, get directions, and more."
   ]
  },
  {
   "cell_type": "markdown",
   "id": "940603d3-9f99-4bd8-b371-3b92cf5fc759",
   "metadata": {},
   "source": [
    "# Quetion : 2"
   ]
  },
  {
   "cell_type": "markdown",
   "id": "05c28091-0f0a-4b5d-9289-ed3bc4aef49b",
   "metadata": {},
   "source": [
    "Advantages: \n",
    "1. APIs allow developers to access and use data from other applications without having to understand the underlying code. This makes it easier for developers to create new applications and services that integrate with existing systems.\n",
    "2. APIs can help reduce development time and costs by allowing developers to reuse existing code and functionality.\n",
    "3. APIs can help improve the user experience by allowing developers to create more intuitive and interactive applications.\n",
    "4. APIs can help increase security by providing a secure way for applications to communicate with each other.\n",
    "\n",
    "Disadvantages: \n",
    "1. APIs can be difficult to use and require a certain level of technical knowledge.\n",
    "2. APIs can be unreliable and may not always provide the expected results.\n",
    "3. APIs can be vulnerable to security threats such as malicious attacks or data breaches.\n",
    "4. APIs can be expensive to maintain and may require ongoing support and maintenance."
   ]
  },
  {
   "cell_type": "markdown",
   "id": "6e01b730-113d-4761-a5dc-cd7cce769e8a",
   "metadata": {},
   "source": [
    "# Quetion : 3"
   ]
  },
  {
   "cell_type": "markdown",
   "id": "23319099-38cc-4d5f-8663-c34d5b885fd2",
   "metadata": {},
   "source": [
    "A Web API is an application programming interface (API) that is used to enable communication between web applications and servers. It allows developers to access and manipulate data from a remote server using HTTP requests.\n",
    "\n",
    "The main difference between an API and a Web API is that an API is a software-to-software interface, while a Web API is a web-based interface that uses HTTP requests to access and manipulate data from a remote server. An API is typically used for internal applications, while a Web API is used for external applications."
   ]
  },
  {
   "cell_type": "markdown",
   "id": "4121b02f-6fb2-4fdf-b2be-2805c9b1d01a",
   "metadata": {},
   "source": [
    "# Quetion : 4"
   ]
  },
  {
   "cell_type": "markdown",
   "id": "99a04028-6ec2-4222-896e-99615213790e",
   "metadata": {},
   "source": [
    "REST (Representational State Transfer) is an architectural style for designing distributed systems. It is based on a client-server model, where the client sends requests to the server and the server responds with data. REST is stateless, meaning that each request from the client contains all of the information necessary for the server to process the request.\n",
    "\n",
    "SOAP (Simple Object Access Protocol) is a messaging protocol for exchanging information between two systems. It is based on XML and uses HTTP as its transport protocol. SOAP messages are sent over the network and contain data in an XML format.\n",
    "\n",
    "The main shortcoming of SOAP is that it is complex and difficult to use. It requires a lot of configuration and setup, which can be time consuming. Additionally, SOAP messages are verbose and can be slow to process."
   ]
  },
  {
   "cell_type": "markdown",
   "id": "e3ba7a7d-5c0a-4853-994f-5ea4cf4f6a9b",
   "metadata": {},
   "source": [
    "# Quetion : 5"
   ]
  },
  {
   "cell_type": "markdown",
   "id": "5d67d265-785a-45b2-88af-13b9c3249c1b",
   "metadata": {},
   "source": [
    "REST (Representational State Transfer): \n",
    "- REST is an architectural style for designing distributed systems. \n",
    "- It is based on a client/server model, where the client sends a request to the server and the server responds with data. \n",
    "- REST does not use any specific protocol, but instead relies on the underlying protocol of the web (HTTP). \n",
    "- REST is stateless, meaning that each request is independent and does not rely on any previous requests.\n",
    "\n",
    "SOAP (Simple Object Access Protocol): \n",
    "- SOAP is a messaging protocol for exchanging information between two systems. \n",
    "- It is based on XML and uses HTTP as its transport protocol. \n",
    "- SOAP is stateful, meaning that each request is dependent on the previous request. \n",
    "- SOAP also requires a specific set of rules for communication, such as WSD"
   ]
  },
  {
   "cell_type": "code",
   "execution_count": null,
   "id": "4f5ed9e7-8d16-4f9d-b2a2-5a9a1c1c1113",
   "metadata": {},
   "outputs": [],
   "source": []
  }
 ],
 "metadata": {
  "kernelspec": {
   "display_name": "Python 3 (ipykernel)",
   "language": "python",
   "name": "python3"
  },
  "language_info": {
   "codemirror_mode": {
    "name": "ipython",
    "version": 3
   },
   "file_extension": ".py",
   "mimetype": "text/x-python",
   "name": "python",
   "nbconvert_exporter": "python",
   "pygments_lexer": "ipython3",
   "version": "3.10.8"
  }
 },
 "nbformat": 4,
 "nbformat_minor": 5
}
